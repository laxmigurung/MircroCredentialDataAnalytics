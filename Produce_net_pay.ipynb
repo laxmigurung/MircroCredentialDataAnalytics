{
  "nbformat": 4,
  "nbformat_minor": 0,
  "metadata": {
    "colab": {
      "name": "Produce_net_pay.ipynb",
      "provenance": [],
      "collapsed_sections": [],
      "authorship_tag": "ABX9TyO7keEu+criMlOLQ6Nvqi/h",
      "include_colab_link": true
    },
    "kernelspec": {
      "name": "python3",
      "display_name": "Python 3"
    }
  },
  "cells": [
    {
      "cell_type": "markdown",
      "metadata": {
        "id": "view-in-github",
        "colab_type": "text"
      },
      "source": [
        "<a href=\"https://colab.research.google.com/github/laxmigurung/MircroCredentialDataAnalytics/blob/laxmigurung-patch-1/Produce_net_pay.ipynb\" target=\"_parent\"><img src=\"https://colab.research.google.com/assets/colab-badge.svg\" alt=\"Open In Colab\"/></a>"
      ]
    },
    {
      "cell_type": "code",
      "metadata": {
        "colab": {
          "base_uri": "https://localhost:8080/"
        },
        "id": "RebJUihHZovw",
        "outputId": "86588184-c73c-46cb-8c86-4a6f1b67933e"
      },
      "source": [
        "#Create an application to produce net pay. Gross pay is the amount before deductions. Net pay is the final result after all of the deductions have been subtracted. The deductions are as follows.\n",
        "\n",
        "#Federal Tax: 20%\n",
        "#State Tax: 7%\n",
        "#Health insurance: 5%\n",
        "#401k: 10%\n",
        "\n",
        "\n",
        "\n",
        "def gross_pay(hours , wage):\n",
        "  if (hours_worked >=40):\n",
        "    regular_pay = 40 * wage\n",
        "    overtime_pay = (hours - 40) * wage * 1.5\n",
        "    return(regular_pay + overtime_pay)\n",
        "  else:\n",
        "    return(hours * wage)\n",
        "\n",
        "\n",
        "def k401():\n",
        "  return (0.1 * grosspay)\n",
        "\n",
        "def health_insurance():\n",
        "  return (0.05 * grosspay)\n",
        "\n",
        "def total_tax():\n",
        "  return (0.27 *grosspay)\n",
        "\n",
        "\n",
        "\n",
        "def net_pay(netpay):\n",
        "  return (netpay)\n",
        "\n",
        "hours_worked = float(input('How many hours did you work?'))\n",
        "hourly_wage = float(input('Enter your hourly wage: '))\n",
        "\n",
        "grosspay = hours_worked * hourly_wage\n",
        "\n",
        "\n",
        "retirement_money = k401()\n",
        "\n",
        "\n",
        "amount_of_insurance = health_insurance()\n",
        "\n",
        "tax_to_be_deducted = total_tax()\n",
        "\n",
        "\n",
        "\n",
        "netpay = gross_pay(hours_worked, hourly_wage) -  k401() - total_tax() - health_insurance()\n",
        "print('Gross Pay = ', grosspay)\n",
        "print('Net Pay = ', netpay)\n",
        "\n",
        "\n",
        "\n"
      ],
      "execution_count": 5,
      "outputs": [
        {
          "output_type": "stream",
          "text": [
            "How many hours did you work?10\n",
            "Enter your hourly wage: 15\n",
            "Gross Pay =  150.0\n",
            "Net Pay =  87.0\n"
          ],
          "name": "stdout"
        }
      ]
    }
  ]
}