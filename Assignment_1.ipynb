{
  "nbformat": 4,
  "nbformat_minor": 0,
  "metadata": {
    "colab": {
      "name": "Assignment 1.ipynb",
      "provenance": [],
      "authorship_tag": "ABX9TyP/ZccK1tlPqZCyA4MYS8Pv",
      "include_colab_link": true
    },
    "kernelspec": {
      "name": "python3",
      "display_name": "Python 3"
    }
  },
  "cells": [
    {
      "cell_type": "markdown",
      "metadata": {
        "id": "view-in-github",
        "colab_type": "text"
      },
      "source": [
        "<a href=\"https://colab.research.google.com/github/laxmigurung/MircroCredentialDataAnalytics/blob/main/Assignment_1.ipynb\" target=\"_parent\"><img src=\"https://colab.research.google.com/assets/colab-badge.svg\" alt=\"Open In Colab\"/></a>"
      ]
    },
    {
      "cell_type": "code",
      "metadata": {
        "id": "xU7cd56vqkps"
      },
      "source": [
        "#1. What is Python and why is it useful?\n",
        "#Python is a high-level programming language. It is used to create web applications. software applications. It has many built-in functions than C++ and Java, therefore it is very convenient and efficient to use this language for Data Analytics.\n",
        "\n",
        "\n",
        "# 2. Are the following variable names allowed in python?\n",
        "\n",
        "# a. 1_message\n",
        "# b. Greeting_message\n",
        "# c. Message_1\n",
        "# d. First name\n",
        "# e. Full_name\n",
        "# a and d are not allowed.\n"
      ],
      "execution_count": null,
      "outputs": []
    },
    {
      "cell_type": "code",
      "metadata": {
        "colab": {
          "base_uri": "https://localhost:8080/"
        },
        "id": "1hM_c1r0qzQy",
        "outputId": "e271410d-a253-4b92-c04b-f264d5c0aaa3"
      },
      "source": [
        "# 3. Create a variable that holds the string “hello there!”\n",
        "first_word = \"hello there!\"\n",
        "print(first_word)"
      ],
      "execution_count": 1,
      "outputs": [
        {
          "output_type": "stream",
          "text": [
            "hello there!\n"
          ],
          "name": "stdout"
        }
      ]
    },
    {
      "cell_type": "code",
      "metadata": {
        "colab": {
          "base_uri": "https://localhost:8080/"
        },
        "id": "QkdNaUqiq54v",
        "outputId": "ba2da045-18cf-4004-cf4a-0aa67e0507a5"
      },
      "source": [
        "# 4. Create a variable for first name, last name and an email extension.  Concatenating all three together to form an email address.  For example: firstnamelastname@gmail.com\n",
        "first_name = input('Enter your first name:')\n",
        "last_name = input(\"Enter your last name:\")\n",
        "email_ext = '@gmail.com'\n",
        "\n",
        "print(first_name + last_name + email_ext)"
      ],
      "execution_count": 2,
      "outputs": [
        {
          "output_type": "stream",
          "text": [
            "Enter your first name:laxmi\n",
            "Enter your last name:gurung\n",
            "laxmigurung@gmail.com\n"
          ],
          "name": "stdout"
        }
      ]
    },
    {
      "cell_type": "code",
      "metadata": {
        "colab": {
          "base_uri": "https://localhost:8080/"
        },
        "id": "Q8MA_vtfrDqh",
        "outputId": "85686e12-38a9-4091-99f8-5983e5ab8fdb"
      },
      "source": [
        "# 5. Store someone you know name in a variable called name. Print their name in lower and uppercase using a method.\n",
        "\n",
        "name = 'Neja Gurung'\n",
        "print(name.upper())\n",
        "print(name.lower())\n"
      ],
      "execution_count": 3,
      "outputs": [
        {
          "output_type": "stream",
          "text": [
            "NEJA GURUNG\n",
            "neja gurung\n"
          ],
          "name": "stdout"
        }
      ]
    },
    {
      "cell_type": "code",
      "metadata": {
        "colab": {
          "base_uri": "https://localhost:8080/"
        },
        "id": "vYIkvFgArMf_",
        "outputId": "65567972-3f01-4ac2-a64a-08269c87a812"
      },
      "source": [
        "# 6. Using a variable, ask your friend if they want to hang out on the 15th of the month. For example, “Do you want to hang out on the 15th of this month?” You should have to convert the number to a string.\n",
        "\n",
        "ask_question = 'Do you want to hang out on the 15th of this month?'\n",
        "print(ask_question)"
      ],
      "execution_count": 4,
      "outputs": [
        {
          "output_type": "stream",
          "text": [
            "Do you want to hang out on the 15th of this month?\n"
          ],
          "name": "stdout"
        }
      ]
    },
    {
      "cell_type": "code",
      "metadata": {
        "id": "LxOd4gsVrSbw"
      },
      "source": [
        ""
      ],
      "execution_count": null,
      "outputs": []
    },
    {
      "cell_type": "markdown",
      "metadata": {
        "id": "fw7NNr3t08s-"
      },
      "source": [
        ""
      ]
    },
    {
      "cell_type": "code",
      "metadata": {
        "id": "qHsRiv350-Ou"
      },
      "source": [
        ""
      ],
      "execution_count": null,
      "outputs": []
    }
  ]
}