{
  "nbformat": 4,
  "nbformat_minor": 0,
  "metadata": {
    "colab": {
      "name": "DictionaryAssignment.ipynb",
      "provenance": [],
      "authorship_tag": "ABX9TyODOtrCoa6s2gyIM4xZWtR3",
      "include_colab_link": true
    },
    "kernelspec": {
      "name": "python3",
      "display_name": "Python 3"
    }
  },
  "cells": [
    {
      "cell_type": "markdown",
      "metadata": {
        "id": "view-in-github",
        "colab_type": "text"
      },
      "source": [
        "<a href=\"https://colab.research.google.com/github/laxmigurung/MircroCredentialDataAnalytics/blob/laxmigurung-patch-1/DictionaryAssignment.ipynb\" target=\"_parent\"><img src=\"https://colab.research.google.com/assets/colab-badge.svg\" alt=\"Open In Colab\"/></a>"
      ]
    },
    {
      "cell_type": "code",
      "metadata": {
        "colab": {
          "base_uri": "https://localhost:8080/"
        },
        "id": "Bb2rA_X1MdyZ",
        "outputId": "f7c770e8-1544-445f-da9f-9b514fbb822b"
      },
      "source": [
        "# 1. Two lists coverted into dictionaries\n",
        "numbers_words = { 'Ten': '10' , 'Twenty': '20' , 'Thirty': '30'}\n",
        "print(numbers_words)"
      ],
      "execution_count": 2,
      "outputs": [
        {
          "output_type": "stream",
          "text": [
            "{'Ten': '10', 'Twenty': '20', 'Thirty': '30'}\n"
          ],
          "name": "stdout"
        }
      ]
    },
    {
      "cell_type": "code",
      "metadata": {
        "colab": {
          "base_uri": "https://localhost:8080/"
        },
        "id": "vufEcvZFM3XE",
        "outputId": "7e7a2e49-9444-4687-cf5e-205e2d5d0ec9"
      },
      "source": [
        "dict1 = {'Ten': '10', 'Twenty': '20', 'Thirty': '30'}\n",
        "dict2 = {'Thirty': '30', 'Fourty': '40', 'Fifty': '50'}\n",
        "dict1.update(dict2)\n",
        "print(dict1)\n",
        "\n",
        "\n"
      ],
      "execution_count": 69,
      "outputs": [
        {
          "output_type": "stream",
          "text": [
            "{'Ten': '10', 'Twenty': '20', 'Thirty': '30', 'Fourty': '40', 'Fifty': '50'}\n"
          ],
          "name": "stdout"
        }
      ]
    },
    {
      "cell_type": "code",
      "metadata": {
        "colab": {
          "base_uri": "https://localhost:8080/"
        },
        "id": "-K8DCd2cNli_",
        "outputId": "b06a2105-8b70-4de7-b523-e13b19e5130c"
      },
      "source": [
        "sampleDict = { \n",
        "   \"class\":{ \n",
        "      \"student\":{ \n",
        "         \"name\":\"Mike\",\n",
        "         \"marks\":{ \n",
        "            \"physics\":70,\n",
        "            \"history\":80\n",
        "         }\n",
        "      }\n",
        "   }\n",
        "}\n",
        "print(sampleDict['class']['student']['marks']['history'])\n",
        "  \n",
        "  "
      ],
      "execution_count": 36,
      "outputs": [
        {
          "output_type": "stream",
          "text": [
            "80\n"
          ],
          "name": "stdout"
        }
      ]
    },
    {
      "cell_type": "code",
      "metadata": {
        "colab": {
          "base_uri": "https://localhost:8080/"
        },
        "id": "u1_mKhoxPKlI",
        "outputId": "f2c7a91e-6254-4bd9-c4f5-3f1d444b5eb6"
      },
      "source": [
        "#Initialize dictionary with default values\n",
        "\n",
        "employees = ['Kelly', 'Emma', 'John']\n",
        "defaults = {\"designation\": 'Application Developer', \"salary\": 8000}\n",
        "information = {'name' : 'Laxmi' , 'age': '24', 'hobby': 'KoreanDrama'}\n",
        "\n",
        "\n",
        "resDict1 = dict.fromkeys(employees, defaults)\n",
        "resDict2 = dict.fromkeys(information, defaults)\n",
        "resDict3 = dict.fromkeys(employees, information)\n",
        "print(resDict1)\n",
        "print(resDict2)\n",
        "print(resDict3)\n",
        "\n",
        "\n",
        "print(resDict[\"Kelly\"])"
      ],
      "execution_count": 71,
      "outputs": [
        {
          "output_type": "stream",
          "text": [
            "{'Kelly': {'designation': 'Application Developer', 'salary': 8000}, 'Emma': {'designation': 'Application Developer', 'salary': 8000}, 'John': {'designation': 'Application Developer', 'salary': 8000}}\n",
            "{'name': {'designation': 'Application Developer', 'salary': 8000}, 'age': {'designation': 'Application Developer', 'salary': 8000}, 'hobby': {'designation': 'Application Developer', 'salary': 8000}}\n",
            "{'Kelly': {'name': 'Laxmi', 'age': '24', 'hobby': 'KoreanDrama'}, 'Emma': {'name': 'Laxmi', 'age': '24', 'hobby': 'KoreanDrama'}, 'John': {'name': 'Laxmi', 'age': '24', 'hobby': 'KoreanDrama'}}\n",
            "{'designation': 'Application Developer', 'salary': 8000}\n"
          ],
          "name": "stdout"
        }
      ]
    },
    {
      "cell_type": "code",
      "metadata": {
        "colab": {
          "base_uri": "https://localhost:8080/"
        },
        "id": "9104y7m4Sfm1",
        "outputId": "b696a465-5a56-4b49-e805-e775f7476b15"
      },
      "source": [
        "# Create a new dictionary by extracting the following keys from a given dictionary\n",
        "\n",
        "sampleDict = {\n",
        "  \"name\": \"Kelly\",\n",
        "  \"age\":25,\n",
        "  \"salary\": 8000,\n",
        "  \"city\": \"New york\"\n",
        "  \n",
        "}\n",
        "\n",
        "keys = ['name' , 'salary']\n",
        "#newDict={k: sampleDict[k] for k in keys}\n",
        "for k,v in sampleDict.items():\n",
        "  if k in keys:\n",
        "    newDict[k] = v\n",
        "\n",
        "print(newDict)\n",
        "\n"
      ],
      "execution_count": 65,
      "outputs": [
        {
          "output_type": "stream",
          "text": [
            "{'name': 'Kelly', 'salary': 8000}\n"
          ],
          "name": "stdout"
        }
      ]
    },
    {
      "cell_type": "code",
      "metadata": {
        "colab": {
          "base_uri": "https://localhost:8080/"
        },
        "id": "hbyrNWnzTo4_",
        "outputId": "f7f25357-5532-43aa-a05c-f365ca696a27"
      },
      "source": [
        "#Delete set of keys from Python Dictionary\n",
        "sampleDict = {\n",
        "  \"name\": \"Kelly\",\n",
        "  \"age\":25,\n",
        "  \"salary\": 8000,\n",
        "  \"city\": \"New york\"\n",
        "  \n",
        "}\n",
        "keysToRemove = [\"name\", \"salary\"]\n",
        "sampleDict = {k: sampleDict[k] for k in sampleDict.keys() - keysToRemove}\n",
        "print(sampleDict)"
      ],
      "execution_count": 45,
      "outputs": [
        {
          "output_type": "stream",
          "text": [
            "{'city': 'New york', 'age': 25}\n"
          ],
          "name": "stdout"
        }
      ]
    },
    {
      "cell_type": "code",
      "metadata": {
        "colab": {
          "base_uri": "https://localhost:8080/"
        },
        "id": "kvsiGJseUDCy",
        "outputId": "ab1ca219-7d97-41cb-a937-6453a737790d"
      },
      "source": [
        "sampleDict = {'a': 100, 'b': 200, 'c': 300}\n",
        "\n",
        "print (200 in sampleDict.values())"
      ],
      "execution_count": 53,
      "outputs": [
        {
          "output_type": "stream",
          "text": [
            "True\n"
          ],
          "name": "stdout"
        }
      ]
    },
    {
      "cell_type": "code",
      "metadata": {
        "colab": {
          "base_uri": "https://localhost:8080/"
        },
        "id": "LLYntOOPU-hR",
        "outputId": "5bb38d85-43ee-4576-9072-2b7ca1cdea8b"
      },
      "source": [
        "sampleDict = {\n",
        "  \"name\": \"Kelly\",\n",
        "  \"age\":25,\n",
        "  \"salary\": 8000,\n",
        "  \"city\": \"New york\"\n",
        "}\n",
        "sampleDict['location'] = sampleDict.pop('city')\n",
        "print(sampleDict)"
      ],
      "execution_count": 56,
      "outputs": [
        {
          "output_type": "stream",
          "text": [
            "{'name': 'Kelly', 'age': 25, 'salary': 8000, 'location': 'New york'}\n"
          ],
          "name": "stdout"
        }
      ]
    },
    {
      "cell_type": "code",
      "metadata": {
        "colab": {
          "base_uri": "https://localhost:8080/"
        },
        "id": "vP9m7YwRWlpE",
        "outputId": "674f5048-277c-4220-9dbc-f18c0af4ffc8"
      },
      "source": [
        "sampleDict = {\n",
        "  'Physics': 82,\n",
        "  'Math': 65,\n",
        "  'history': 75\n",
        "}\n",
        "\n",
        "print(min(sampleDict, key = sampleDict.get))"
      ],
      "execution_count": 57,
      "outputs": [
        {
          "output_type": "stream",
          "text": [
            "Math\n"
          ],
          "name": "stdout"
        }
      ]
    },
    {
      "cell_type": "code",
      "metadata": {
        "colab": {
          "base_uri": "https://localhost:8080/"
        },
        "id": "htppcPu9XslR",
        "outputId": "3bf64efb-1e86-43bf-d945-d4f7c99767a8"
      },
      "source": [
        "sampleDict = {\n",
        "     'emp1': {'name': 'Jhon', 'salary': 7500},\n",
        "     'emp2': {'name': 'Emma', 'salary': 8000},\n",
        "     'emp3': {'name': 'Brad', 'salary': 6500}\n",
        "}\n",
        "sampleDict ['emp3']['salary']= 8500\n",
        "print(sampleDict)"
      ],
      "execution_count": 64,
      "outputs": [
        {
          "output_type": "stream",
          "text": [
            "{'emp1': {'name': 'Jhon', 'salary': 7500}, 'emp2': {'name': 'Emma', 'salary': 8000}, 'emp3': {'name': 'Brad', 'salary': 8500}}\n"
          ],
          "name": "stdout"
        }
      ]
    },
    {
      "cell_type": "code",
      "metadata": {
        "colab": {
          "base_uri": "https://localhost:8080/"
        },
        "id": "cjcbXforYCcS",
        "outputId": "055bdbde-0ec9-4523-a4ec-0860d3a514e6"
      },
      "source": [
        "# Create a new dictionary by extracting the following keys from a given dictionary\n",
        "\n",
        "sampleDict = {\n",
        "  \"name\": \"Kelly\",\n",
        "  \"age\":25,\n",
        "  \"salary\": 8000,\n",
        "  \"city\": \"New york\"\n",
        "  \n",
        "}\n",
        "\n",
        "keys = ['name' , 'salary']\n",
        "newDict={k: sampleDict[k] for k in keys}\n",
        "#for k,v in sampleDict.items():\n",
        "  #if k in keys:\n",
        "    #newDict[k] = v\n",
        "\n",
        "print(newDict)"
      ],
      "execution_count": 67,
      "outputs": [
        {
          "output_type": "stream",
          "text": [
            "{'name': 'Kelly', 'salary': 8000}\n"
          ],
          "name": "stdout"
        }
      ]
    },
    {
      "cell_type": "code",
      "metadata": {
        "colab": {
          "base_uri": "https://localhost:8080/"
        },
        "id": "lMHSgPmmcfGd",
        "outputId": "9184487c-2154-4534-b4bf-1e2690362c1e"
      },
      "source": [
        "sampleDict = {'a': 100, 'b': 200, 'c': 300}\n",
        "if 200 in sampleDict.values():\n",
        "  print(True)"
      ],
      "execution_count": 73,
      "outputs": [
        {
          "output_type": "stream",
          "text": [
            "True\n"
          ],
          "name": "stdout"
        }
      ]
    },
    {
      "cell_type": "code",
      "metadata": {
        "colab": {
          "base_uri": "https://localhost:8080/"
        },
        "id": "74A4tehWiZvj",
        "outputId": "62845901-4ffa-488b-f26e-e96d21a7a3da"
      },
      "source": [
        "sampleDict = {'a': 100, 'b': 200, 'c': 300}\n",
        "200 in sampleDict.values()"
      ],
      "execution_count": 74,
      "outputs": [
        {
          "output_type": "execute_result",
          "data": {
            "text/plain": [
              "True"
            ]
          },
          "metadata": {
            "tags": []
          },
          "execution_count": 74
        }
      ]
    },
    {
      "cell_type": "code",
      "metadata": {
        "colab": {
          "base_uri": "https://localhost:8080/"
        },
        "id": "7Jiou6pRi8JH",
        "outputId": "46d2f658-d78d-4456-bbdf-b8fde6446c0c"
      },
      "source": [
        "5 == 10/2"
      ],
      "execution_count": 76,
      "outputs": [
        {
          "output_type": "execute_result",
          "data": {
            "text/plain": [
              "True"
            ]
          },
          "metadata": {
            "tags": []
          },
          "execution_count": 76
        }
      ]
    },
    {
      "cell_type": "code",
      "metadata": {
        "id": "ZFxpEKZtjASq"
      },
      "source": [
        ""
      ],
      "execution_count": null,
      "outputs": []
    }
  ]
}