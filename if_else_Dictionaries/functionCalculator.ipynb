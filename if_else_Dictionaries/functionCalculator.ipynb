{
  "nbformat": 4,
  "nbformat_minor": 0,
  "metadata": {
    "colab": {
      "name": "Copy of Assignment if else/Dictionaries.ipynb",
      "provenance": [],
      "authorship_tag": "ABX9TyOuwdpt1VLsYkxf7KR1i2UR",
      "include_colab_link": true
    },
    "kernelspec": {
      "name": "python3",
      "display_name": "Python 3"
    }
  },
  "cells": [
    {
      "cell_type": "markdown",
      "metadata": {
        "id": "view-in-github",
        "colab_type": "text"
      },
      "source": [
        "<a href=\"https://colab.research.google.com/github/laxmigurung/MircroCredentialDataAnalytics/blob/laxmigurung-patch-1/if_else_Dictionaries/functionCalculator.ipynb\" target=\"_parent\"><img src=\"https://colab.research.google.com/assets/colab-badge.svg\" alt=\"Open In Colab\"/></a>"
      ]
    },
    {
      "cell_type": "code",
      "metadata": {
        "colab": {
          "base_uri": "https://localhost:8080/"
        },
        "id": "naTJ_-7xhKus",
        "outputId": "b37bc086-6c63-4da7-9bd5-ad246d99082c"
      },
      "source": [
        "#Make a list of 5 or more usernames, including an admin account.  Imagine you are writing code that will welcome people to your application on login. Loop through the list and print your greeting.\n",
        "#If the admin account logs in, give them a special greeting.  They’re the admin, after all!\n",
        "#Other users can get the generic greeting\n",
        "\n",
        "\n",
        "user_name = {'Laxmi Gurung':'Member' ,  #key should be name and value should be the position.\n",
        "             'Louis Sapia' :'Admin' ,\n",
        "             'Anjali Dutt':'Admin' , \n",
        "             ' Fatima Javid': 'Member', \n",
        "             'Abrar Hossain':'Admin'}\n",
        "\n",
        "\n",
        "user_Id = input('Enter your username: ')\n",
        "\n",
        "\n",
        "if user_name[user_Id.title()] == 'Admin': #you need .title() after user_Id in all three lines for your output to look presentable.\n",
        "    print('Greetings! Welcome to your admin account. ' + user_Id.title())\n",
        "else:\n",
        "    print('Welcome Back ' + user_Id.title())\n"
      ],
      "execution_count": null,
      "outputs": [
        {
          "output_type": "stream",
          "text": [
            "Enter your username: louis sapia\n",
            "Greetings! Welcome to your admin account. Louis Sapia\n"
          ],
          "name": "stdout"
        }
      ]
    },
    {
      "cell_type": "code",
      "metadata": {
        "colab": {
          "base_uri": "https://localhost:8080/"
        },
        "id": "AYyEDybGi4EX",
        "outputId": "2bbbb51b-a044-4059-887e-efce1c69a491"
      },
      "source": [
        "list_numbers = [1,2,3,4,5,6,7,8,9,10]\n",
        "\n",
        "num = input('Enter a number from list_numbers: ')\n",
        "\n",
        "if (num == '1'):\n",
        "  print(num + 'st')\n",
        "elif (num == '2'):\n",
        "  print (num + 'nd')\n",
        "elif (num == '3'):\n",
        "  print(num + 'rd')\n",
        "else:\n",
        "  print(num + 'th')\n",
        "\n"
      ],
      "execution_count": null,
      "outputs": [
        {
          "output_type": "stream",
          "text": [
            "Enter a number from list_numbers: 3\n",
            "3rd\n"
          ],
          "name": "stdout"
        }
      ]
    },
    {
      "cell_type": "code",
      "metadata": {
        "id": "EjnAIKw0nd16",
        "colab": {
          "base_uri": "https://localhost:8080/"
        },
        "outputId": "30722d6b-c349-43e8-cd70-cca39c2a4edf"
      },
      "source": [
        "#Let's build a calculator that calculates 2 numbers.\n",
        "#Allow input for the the following\n",
        "#Number1, Number2, Operator\n",
        "\n",
        "#Bases on the operator, perform the operation using an appropriate function\n",
        "def add(num1,num2):\n",
        "  return(num1+num2)\n",
        "\n",
        "def subtract(num1,num2):\n",
        "  return(num1-num2)\n",
        "  \n",
        "def product(num1,num2):\n",
        "  return(num1*num2)\n",
        "  \n",
        "def division(num1,num2):\n",
        "  return(num1/num2)\n",
        "\n",
        "first_number = int(input('Enter first number:'))\n",
        "second_number = int(input('Enter second number: '))\n",
        "operator = input('Enter your operator: ')\n",
        "\n",
        "if (operator == '+'):\n",
        " print(first_number , ' + ' , second_number ,' = ' , str(add(first_number, second_number)))\n",
        "elif (operator == '-'):\n",
        "  print( first_number , '-' , second_number , '=' , str(subtract(first_number,second_number)))\n",
        "elif (operator == '*'):\n",
        "  print( first_number , '*' , second_number , '=' , str(product(first_number,second_number)))\n",
        "elif (operator == '/'):\n",
        "  print( first_number , '/' , second_number , '=' , str(division(first_number,second_number)))\n",
        "else:\n",
        "  print('You entered wrong data.')\n",
        "  "
      ],
      "execution_count": 6,
      "outputs": [
        {
          "output_type": "stream",
          "text": [
            "Enter first number:2\n",
            "Enter second number: 3\n",
            "Enter your operator: *\n",
            "2 * 3 = 6\n"
          ],
          "name": "stdout"
        }
      ]
    },
    {
      "cell_type": "code",
      "metadata": {
        "colab": {
          "base_uri": "https://localhost:8080/"
        },
        "id": "qs2hXk4uZE5C",
        "outputId": "c777c7c1-7785-4d47-d895-058d14beba4b"
      },
      "source": [
        "product(6,3)"
      ],
      "execution_count": 18,
      "outputs": [
        {
          "output_type": "execute_result",
          "data": {
            "text/plain": [
              "18"
            ]
          },
          "metadata": {
            "tags": []
          },
          "execution_count": 18
        }
      ]
    },
    {
      "cell_type": "code",
      "metadata": {
        "colab": {
          "base_uri": "https://localhost:8080/"
        },
        "id": "SRjmudQPwPJp",
        "outputId": "4761e659-1d77-4804-8821-7ee3dab392ef"
      },
      "source": [
        "division(8,2)"
      ],
      "execution_count": 17,
      "outputs": [
        {
          "output_type": "execute_result",
          "data": {
            "text/plain": [
              "4.0"
            ]
          },
          "metadata": {
            "tags": []
          },
          "execution_count": 17
        }
      ]
    },
    {
      "cell_type": "code",
      "metadata": {
        "colab": {
          "base_uri": "https://localhost:8080/"
        },
        "id": "R91mku-swIlr",
        "outputId": "031e1257-f8f2-42ce-de24-3fee1fd96909"
      },
      "source": [
        "add(4,4)"
      ],
      "execution_count": 15,
      "outputs": [
        {
          "output_type": "execute_result",
          "data": {
            "text/plain": [
              "8"
            ]
          },
          "metadata": {
            "tags": []
          },
          "execution_count": 15
        }
      ]
    },
    {
      "cell_type": "code",
      "metadata": {
        "colab": {
          "base_uri": "https://localhost:8080/"
        },
        "id": "z8DDDFh1ZMTr",
        "outputId": "35b75050-ddd4-4844-d2bc-b31aaf1d88a7"
      },
      "source": [
        "subtract(6,5)"
      ],
      "execution_count": 16,
      "outputs": [
        {
          "output_type": "execute_result",
          "data": {
            "text/plain": [
              "1"
            ]
          },
          "metadata": {
            "tags": []
          },
          "execution_count": 16
        }
      ]
    }
  ]
}