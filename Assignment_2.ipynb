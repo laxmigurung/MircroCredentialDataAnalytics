{
  "nbformat": 4,
  "nbformat_minor": 0,
  "metadata": {
    "colab": {
      "name": "Assignment 2.ipynb",
      "provenance": [],
      "authorship_tag": "ABX9TyNzSbkuqeDsSfyrdDP0FfNe",
      "include_colab_link": true
    },
    "kernelspec": {
      "name": "python3",
      "display_name": "Python 3"
    }
  },
  "cells": [
    {
      "cell_type": "markdown",
      "metadata": {
        "id": "view-in-github",
        "colab_type": "text"
      },
      "source": [
        "<a href=\"https://colab.research.google.com/github/laxmigurung/MircroCredentialDataAnalytics/blob/main/Assignment_2.ipynb\" target=\"_parent\"><img src=\"https://colab.research.google.com/assets/colab-badge.svg\" alt=\"Open In Colab\"/></a>"
      ]
    },
    {
      "cell_type": "code",
      "metadata": {
        "id": "jNo_Enk_nR6s"
      },
      "source": [
        "# 1. Create a list of 5 of your favorite tv shows\n",
        "tv_shows = ['Gossip Girls' , 'Cobra Kai', \"Grey's Anatomy\" , 'Start Up', 'The Crown']\n"
      ],
      "execution_count": 10,
      "outputs": []
    },
    {
      "cell_type": "code",
      "metadata": {
        "colab": {
          "base_uri": "https://localhost:8080/"
        },
        "id": "zBGq9ddenUB-",
        "outputId": "977669b7-6e39-49cd-d82b-8fdf20b2623f"
      },
      "source": [
        "# 2.Print the list in its original order.\n",
        "\n",
        "print(tv_shows)"
      ],
      "execution_count": 11,
      "outputs": [
        {
          "output_type": "stream",
          "text": [
            "['Gossip Girls', 'Cobra Kai', \"Grey's Anatomy\", 'Start Up', 'The Crown']\n"
          ],
          "name": "stdout"
        }
      ]
    },
    {
      "cell_type": "code",
      "metadata": {
        "colab": {
          "base_uri": "https://localhost:8080/"
        },
        "id": "z_sPUQ49omNw",
        "outputId": "fa4b01e4-e679-48a3-c853-30ac62f9f2d0"
      },
      "source": [
        "# 3. Use the sorted() function to print the list in alphabetical order.  How is sorted() different from sort()?\n",
        "\n",
        "print(sorted(tv_shows))"
      ],
      "execution_count": 12,
      "outputs": [
        {
          "output_type": "stream",
          "text": [
            "['Cobra Kai', 'Gossip Girls', \"Grey's Anatomy\", 'Start Up', 'The Crown']\n"
          ],
          "name": "stdout"
        }
      ]
    },
    {
      "cell_type": "code",
      "metadata": {
        "colab": {
          "base_uri": "https://localhost:8080/"
        },
        "id": "fz0HNPwEowOT",
        "outputId": "2c5a9f69-8ce3-45b5-f6ed-a1eed4b48f33"
      },
      "source": [
        "# 4. Print out your original list.\n",
        "\n",
        "print(tv_shows)"
      ],
      "execution_count": 13,
      "outputs": [
        {
          "output_type": "stream",
          "text": [
            "['Gossip Girls', 'Cobra Kai', \"Grey's Anatomy\", 'Start Up', 'The Crown']\n"
          ],
          "name": "stdout"
        }
      ]
    },
    {
      "cell_type": "code",
      "metadata": {
        "colab": {
          "base_uri": "https://localhost:8080/"
        },
        "id": "IvUkLn73pNYV",
        "outputId": "50693420-fcb8-4d60-bb0a-d97bbd793d14"
      },
      "source": [
        "# 5. Used sorted() to print your list in reverse alphabetical order.\n",
        "\n",
        "tv_shows.sort(reverse = True)\n",
        "print(tv_shows)"
      ],
      "execution_count": 16,
      "outputs": [
        {
          "output_type": "stream",
          "text": [
            "['The Crown', 'Start Up', \"Grey's Anatomy\", 'Gossip Girls', 'Cobra Kai']\n"
          ],
          "name": "stdout"
        }
      ]
    },
    {
      "cell_type": "code",
      "metadata": {
        "colab": {
          "base_uri": "https://localhost:8080/"
        },
        "id": "fARqmjhQpR8w",
        "outputId": "17943eca-1b9d-4fa4-9a30-db33935afbe5"
      },
      "source": [
        "# 6. Create a message indicating how many favorite TV shows you have – use the len() function.\n",
        "\n",
        "print('I have' + ' ' +  str(len(tv_shows)) + ' ' + 'favorite TV shows.')"
      ],
      "execution_count": 20,
      "outputs": [
        {
          "output_type": "stream",
          "text": [
            "I have 5 favorite TV shows.\n"
          ],
          "name": "stdout"
        }
      ]
    },
    {
      "cell_type": "code",
      "metadata": {
        "id": "fhx_XFIGprUs"
      },
      "source": [
        ""
      ],
      "execution_count": null,
      "outputs": []
    }
  ]
}